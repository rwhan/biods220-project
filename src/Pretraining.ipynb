{
 "cells": [
  {
   "cell_type": "code",
   "execution_count": 1,
   "id": "7c3b17ca",
   "metadata": {},
   "outputs": [],
   "source": [
    "import parser_utils\n",
    "import data_utils\n",
    "\n",
    "import matplotlib.pyplot as plt\n",
    "import tensorflow as tf\n",
    "import numpy as np\n",
    "\n",
    "tf.keras.backend.set_floatx(\"float32\")\n",
    "\n",
    "ROOT = \"/home/ec2-user/biods220/project/assign2\" \n",
    "\n",
    "target = ['dextrose', 'acetominophen', 'potassium_y', 'insulin', 'heparin', 'statin',\n",
    "'heart rate', 'glucose', 'hemocrit', 'WBCs', 'temperature (F)', 'creatinine']"
   ]
  },
  {
   "cell_type": "code",
   "execution_count": 3,
   "id": "9d28197f",
   "metadata": {},
   "outputs": [
    {
     "name": "stdout",
     "output_type": "stream",
     "text": [
      "Building sequence dataset for ['dextrose', 'acetominophen', 'potassium_y', 'insulin', 'heparin', 'statin', 'heart rate', 'glucose', 'hemocrit', 'WBCs', 'temperature (F)', 'creatinine'], saving to /home/ec2-user/biods220/project/assign2/saved_data/['dextrose', 'acetominophen', 'potassium_y', 'insulin', 'heparin', 'statin', 'heart rate', 'glucose', 'hemocrit', 'WBCs', 'temperature (F)', 'creatinine']_15.pkl\n"
     ]
    },
    {
     "name": "stderr",
     "output_type": "stream",
     "text": [
      "/home/ec2-user/biods220/project/assign2/data_utils.py:336: DtypeWarning: Columns (151,153) have mixed types. Specify dtype option on import or set low_memory=False.\n",
      "  df = pd.read_csv(FILE)\n"
     ]
    },
    {
     "name": "stdout",
     "output_type": "stream",
     "text": [
      "         BUN   HDL  INR  Inspired O2 Fraction   LDL  PEEP Set    PT   PTT  \\\n",
      "0       22.5  41.0  1.3                  50.0  81.0       5.0  14.0  32.4   \n",
      "1       22.5  41.0  1.3                  50.0  81.0       5.0  14.0  32.4   \n",
      "2       22.5  41.0  1.3                  50.0  81.0       5.0  14.0  32.4   \n",
      "3       22.5  41.0  1.3                  50.0  81.0       5.0  14.0  32.4   \n",
      "4       22.5  41.0  1.3                  50.0  81.0       5.0  14.0  32.4   \n",
      "...      ...   ...  ...                   ...   ...       ...   ...   ...   \n",
      "589405   0.0   0.0  0.0                   0.0   0.0       0.0   0.0   0.0   \n",
      "589406   0.0   0.0  0.0                   0.0   0.0       0.0   0.0   0.0   \n",
      "589407   0.0   0.0  0.0                   0.0   0.0       0.0   0.0   0.0   \n",
      "589408   0.0   0.0  0.0                   0.0   0.0       0.0   0.0   0.0   \n",
      "589409   0.0   0.0  0.0                   0.0   0.0       0.0   0.0   0.0   \n",
      "\n",
      "        RBCs  WBCs  ...  tacrolimus  trazodone  vancomycin  vasopressin  \\\n",
      "0       3.39  10.7  ...         0.0        0.0         0.0          0.0   \n",
      "1       3.39  10.7  ...         0.0        0.0         0.0          0.0   \n",
      "2       3.39  10.7  ...         0.0        0.0         0.0          0.0   \n",
      "3       3.39  10.7  ...         0.0        0.0         0.0          0.0   \n",
      "4       3.39  10.7  ...         0.0        0.0         0.0          0.0   \n",
      "...      ...   ...  ...         ...        ...         ...          ...   \n",
      "589405  0.00   0.0  ...         0.0        0.0         0.0          0.0   \n",
      "589406  0.00   0.0  ...         0.0        0.0         1.0          0.0   \n",
      "589407  0.00   0.0  ...         0.0        0.0         1.0          0.0   \n",
      "589408  0.00   0.0  ...         0.0        0.0         0.0          0.0   \n",
      "589409  0.00   0.0  ...         0.0        0.0         1.0          0.0   \n",
      "\n",
      "        warfarin  zolpidem  HADM_ID  CKD  Infection  ct_angio  \n",
      "0            0.0       0.0   100001    0          1         0  \n",
      "1            0.0       0.0   100001    0          1         0  \n",
      "2            0.0       0.0   100001    0          1         0  \n",
      "3            0.0       0.0   100001    0          1         0  \n",
      "4            0.0       0.0   100001    0          1         0  \n",
      "...          ...       ...      ...  ...        ...       ...  \n",
      "589405       0.0       1.0   199998    0          1         1  \n",
      "589406       0.0       0.0   199998    0          1         1  \n",
      "589407       1.0       0.0   199998    0          1         1  \n",
      "589408       1.0       0.0   199998    0          1         1  \n",
      "589409       0.0       0.0   199999    0          1         1  \n",
      "\n",
      "[589410 rows x 236 columns]\n"
     ]
    },
    {
     "name": "stderr",
     "output_type": "stream",
     "text": [
      "/home/ec2-user/biods220/project/assign2/data_utils.py:120: RuntimeWarning: invalid value encountered in true_divide\n",
      "  return (matrix - means) / stds\n"
     ]
    },
    {
     "name": "stdout",
     "output_type": "stream",
     "text": [
      "train shapes  (34030, 15, 229) (34030, 15, 12)\n",
      "Done saving\n",
      "train shapes  (34030, 15, 229) (34030, 15, 12)\n",
      "val shapes    (4862, 15, 229) (4862, 15, 12)\n",
      "test shapes   (9723, 15, 229) (9723, 15, 12)\n",
      "# features    229\n"
     ]
    }
   ],
   "source": [
    "data_utils.build_seq_dataset(ROOT, target)\n",
    "(\n",
    "    train_x,\n",
    "    val_x,\n",
    "    train_y,\n",
    "    val_y,\n",
    "    no_feature_cols,\n",
    "    no_label_cols,\n",
    "    test_x,\n",
    "    test_y,\n",
    "    x_boolmat_test,\n",
    "    y_boolmat_test,\n",
    "    x_boolmat_val,\n",
    "    y_boolmat_val,\n",
    "    features,\n",
    "    labels,\n",
    ") = data_utils.load_seq_dataset(ROOT, target)\n",
    "\n",
    "# convert all float64 to float32\n",
    "train_x = train_x.astype(np.float32)\n",
    "val_x = val_x.astype(np.float32)\n",
    "test_x = test_x.astype(np.float32)\n",
    "train_y = train_y.astype(np.float32)\n",
    "val_y = val_y.astype(np.float32)\n",
    "test_y = test_y.astype(np.float32)\n",
    "\n",
    "print(\"train shapes \", train_x.shape, train_y.shape)\n",
    "print(\"val shapes   \", val_x.shape, val_y.shape)\n",
    "print(\"test shapes  \", test_x.shape, test_y.shape)\n",
    "print(\"# features   \", len(features))"
   ]
  },
  {
   "cell_type": "code",
   "execution_count": null,
   "id": "0d7b27eb",
   "metadata": {},
   "outputs": [],
   "source": []
  },
  {
   "cell_type": "code",
   "execution_count": null,
   "id": "e64171e8",
   "metadata": {},
   "outputs": [],
   "source": []
  },
  {
   "cell_type": "code",
   "execution_count": null,
   "id": "90c0a531",
   "metadata": {},
   "outputs": [],
   "source": []
  },
  {
   "cell_type": "code",
   "execution_count": null,
   "id": "c3b7f670",
   "metadata": {},
   "outputs": [],
   "source": [
    "labels"
   ]
  },
  {
   "cell_type": "code",
   "execution_count": null,
   "id": "f66658aa",
   "metadata": {},
   "outputs": [],
   "source": [
    "num_stays = 10\n",
    "time_indices = [time_step for time_step in range(train_x.shape[1])]\n",
    "\n",
    "label = 'dextrose'\n",
    "\n",
    "fig, ax = plt.subplots(nrows=num_stays, ncols=1, figsize = (10, 10))\n",
    "for hospital_stay_idx in range(num_stays):\n",
    "    ax[hospital_stay_idx].plot(time_indices, train_x[hospital_stay_idx,:,features.index(label)])    \n",
    "    ax[hospital_stay_idx].plot(time_indices, train_y[hospital_stay_idx,:,labels.index(label)], '--')\n",
    "fig.show()"
   ]
  },
  {
   "cell_type": "code",
   "execution_count": null,
   "id": "e963fa66",
   "metadata": {
    "scrolled": false
   },
   "outputs": [],
   "source": [
    "def build_masked_lstm_model(num_timesteps, num_features, lstm_hidden_units=256):\n",
    "    \"\"\"\n",
    "    Return a simple Keras model with a masking single LSTM layer, dropout later,\n",
    "    and then dense prediction layer.\n",
    "\n",
    "    Args:\n",
    "    num_timesteps (int): num timesteps per input data object.\n",
    "    num_features (int): num features per input data object.\n",
    "    lstm_hidden_units (int): units in the LSTM layer\n",
    "\n",
    "    Returns:\n",
    "    model_lstm (tf.keras.Model) LSTM keras model with output dimension (None,1)\n",
    "    \"\"\"\n",
    "    model_lstm = tf.keras.Sequential()\n",
    "    model_lstm.add(tf.keras.layers.Masking(mask_value=0, input_shape=(num_timesteps, num_features)))\n",
    "    model_lstm.add(tf.keras.layers.LSTM(lstm_hidden_units, return_sequences = True))\n",
    "    model_lstm.add(tf.keras.layers.Dropout(0.5))\n",
    "    model_lstm.add(tf.keras.layers.TimeDistributed(tf.keras.layers.Dense(no_label_cols)))\n",
    "    \n",
    "    for layer in model_lstm.layers[1:]:\n",
    "        layer.supports_masking = True\n",
    "    \n",
    "    return model_lstm\n",
    "\n",
    "# Code to test the shape is correc #\n",
    "num_timesteps, num_features = train_x.shape[-2:]\n",
    "lstm_hidden_units = 256\n",
    "\n",
    "model = build_masked_lstm_model(num_timesteps, num_features, lstm_hidden_units)\n",
    "bs = 8\n",
    "x_batch = train_x[:bs]\n",
    "print(model(x_batch).shape)  # expect shape (8, 15, 1) # batch size 8, 15 timesteps"
   ]
  },
  {
   "cell_type": "code",
   "execution_count": null,
   "id": "844f22c8",
   "metadata": {},
   "outputs": [],
   "source": [
    "model.compile(\n",
    "    optimizer='adam',\n",
    "    loss='mse', \n",
    ")\n",
    "\n",
    "epochs = 10\n",
    "batch_size = 16\n",
    "history = model.fit(\n",
    "    x = train_x,\n",
    "    y = train_y,\n",
    "    epochs = epochs, \n",
    "    validation_data = (val_x, val_y),\n",
    "    callbacks = [tf.keras.callbacks.EarlyStopping(patience=5,restore_best_weights=True)]\n",
    ")"
   ]
  },
  {
   "cell_type": "code",
   "execution_count": null,
   "id": "fed53407",
   "metadata": {},
   "outputs": [],
   "source": [
    "model.save('pretrained.h5')"
   ]
  },
  {
   "cell_type": "code",
   "execution_count": null,
   "id": "231fc409",
   "metadata": {},
   "outputs": [],
   "source": []
  }
 ],
 "metadata": {
  "kernelspec": {
   "display_name": "pytorch",
   "language": "python",
   "name": "python3"
  },
  "language_info": {
   "codemirror_mode": {
    "name": "ipython",
    "version": 3
   },
   "file_extension": ".py",
   "mimetype": "text/x-python",
   "name": "python",
   "nbconvert_exporter": "python",
   "pygments_lexer": "ipython3",
   "version": "3.9.12"
  },
  "vscode": {
   "interpreter": {
    "hash": "2d58e898dde0263bc564c6968b04150abacfd33eed9b19aaa8e45c040360e146"
   }
  }
 },
 "nbformat": 4,
 "nbformat_minor": 5
}
